{
 "cells": [
  {
   "cell_type": "code",
   "execution_count": 1,
   "metadata": {},
   "outputs": [],
   "source": [
    "import pandas as pd\n",
    "import numpy as np\n",
    "\n",
    "from nltk.tag import pos_tag\n",
    "from nltk.stem import WordNetLemmatizer\n",
    "from nltk.corpus import wordnet\n",
    "from nltk import word_tokenize"
   ]
  },
  {
   "cell_type": "code",
   "execution_count": 2,
   "metadata": {},
   "outputs": [],
   "source": [
    "def nltk_tag_to_wordnet_tag(nltk_tag):\n",
    "    if nltk_tag.startswith('J'):\n",
    "        return wordnet.ADJ\n",
    "    elif nltk_tag.startswith('V'):\n",
    "        return wordnet.VERB\n",
    "    elif nltk_tag.startswith('N'):\n",
    "        return wordnet.NOUN\n",
    "    elif nltk_tag.startswith('R'):\n",
    "        return wordnet.ADV\n",
    "    else:          \n",
    "        return None"
   ]
  },
  {
   "cell_type": "code",
   "execution_count": 3,
   "metadata": {},
   "outputs": [],
   "source": [
    "def lemmatize_sentence(sentence):\n",
    "    nltk_tagged = pos_tag(sentence.split())\n",
    "    wordnet_tagged = map(lambda x: (x[0], nltk_tag_to_wordnet_tag(x[1])), nltk_tagged)\n",
    "    lemmatized_sentence = []\n",
    "    for word, tag in wordnet_tagged:\n",
    "        if tag is None:\n",
    "            lemmatized_sentence.append(word)\n",
    "        else:        \n",
    "            lemmatized_sentence.append(WordNetLemmatizer().lemmatize(word, tag))\n",
    "    return lemmatized_sentence"
   ]
  },
  {
   "cell_type": "code",
   "execution_count": 4,
   "metadata": {},
   "outputs": [],
   "source": [
    "text_1 = 'Alvin Thomas and Cheryl Alvin walk their dog along River Yangtze.'\n",
    "text_2 = 'Alvin Thomas has a dog when he was a child.'\n",
    "text_3 = 'Alvin and Cheryl like their dog, Danielle Cheryl.'\n",
    "text_4 = 'Alvin Thomas, Cheryl Alvin and Danielle live in Cave Yangtze.'\n",
    "text_5 = 'Dog Danielle likes walking along River Yangtze.'\n",
    "text_6 = 'Liking his name, dog Danielle walks along Cave Yangtze.'\n",
    "text_7 = 'Alvin and Cheryl like having a child.'"
   ]
  },
  {
   "cell_type": "code",
   "execution_count": 5,
   "metadata": {},
   "outputs": [],
   "source": [
    "test_1 = \"Alvin and Cheryl have a child, Thomas Cheryl.\""
   ]
  },
  {
   "cell_type": "code",
   "execution_count": 6,
   "metadata": {},
   "outputs": [],
   "source": [
    "list_1 = [('Alvin','B'),('Thomas','I'),('and','O'),('Cheryl','B'),('Alvin','I'),('walk','O'),\n",
    "          ('their','O'),('dog','O'),('along','O'),('River','B'),('Yangtze','I'),('.','O')]\n",
    "list_2 = [('Alvin','B'),('Thomas','I'),('has','O'),('a','O'),('dog','O'),('when','O'),\n",
    "          ('he','O'),('was','O'),('a','O'),('child','O'),('.','O')]\n",
    "list_3 = [('Alvin','B'),('and','O'),('Cheryl','B'),('like','O'),('their','O'),('dog','O'),(',','O'),\n",
    "          ('Danielle','B'),('Cheryl','I'),('.','O')]\n",
    "list_4 = [('Alvin','B'),('Thomas','I'),(',','O'),('Cheryl','B'),('Alvin','I'),('and','O'),('Danielle','B'),('live','O'),\n",
    "         ('in','O'),('Cave','B'),('Yangtze','I'),('.','O')]\n",
    "list_5 = [('Dog','O'),('Danielle','B'),('likes','O'),('walking','O'),('along','O'),('River','B'),\n",
    "          ('Yangtze','I'),('.','O')]\n",
    "list_6 = [('Liking','O'),('his','O'),('name','O'),(',','O'),('dog','O'),('Danielle','B'),('walks','O'),\n",
    "          ('along','O'),('Cave','B'),('Yangtze','I'),('.','O')]\n",
    "list_7 = [('Alvin','B'),('and','O'),('Cheryl','B'),('like','O'),('having','O'),('a','O'),('child','O'),('.','O')]"
   ]
  },
  {
   "cell_type": "code",
   "execution_count": 7,
   "metadata": {},
   "outputs": [
    {
     "data": {
      "text/html": [
       "<div>\n",
       "<style scoped>\n",
       "    .dataframe tbody tr th:only-of-type {\n",
       "        vertical-align: middle;\n",
       "    }\n",
       "\n",
       "    .dataframe tbody tr th {\n",
       "        vertical-align: top;\n",
       "    }\n",
       "\n",
       "    .dataframe thead th {\n",
       "        text-align: right;\n",
       "    }\n",
       "</style>\n",
       "<table border=\"1\" class=\"dataframe\">\n",
       "  <thead>\n",
       "    <tr style=\"text-align: right;\">\n",
       "      <th>tokens</th>\n",
       "      <th>,</th>\n",
       "      <th>.</th>\n",
       "      <th>a</th>\n",
       "      <th>along</th>\n",
       "      <th>alvin</th>\n",
       "      <th>and</th>\n",
       "      <th>be</th>\n",
       "      <th>cave</th>\n",
       "      <th>cheryl</th>\n",
       "      <th>child</th>\n",
       "      <th>...</th>\n",
       "      <th>in</th>\n",
       "      <th>like</th>\n",
       "      <th>live</th>\n",
       "      <th>name</th>\n",
       "      <th>river</th>\n",
       "      <th>their</th>\n",
       "      <th>thomas</th>\n",
       "      <th>walk</th>\n",
       "      <th>when</th>\n",
       "      <th>yangtze</th>\n",
       "    </tr>\n",
       "    <tr>\n",
       "      <th>entity</th>\n",
       "      <th></th>\n",
       "      <th></th>\n",
       "      <th></th>\n",
       "      <th></th>\n",
       "      <th></th>\n",
       "      <th></th>\n",
       "      <th></th>\n",
       "      <th></th>\n",
       "      <th></th>\n",
       "      <th></th>\n",
       "      <th></th>\n",
       "      <th></th>\n",
       "      <th></th>\n",
       "      <th></th>\n",
       "      <th></th>\n",
       "      <th></th>\n",
       "      <th></th>\n",
       "      <th></th>\n",
       "      <th></th>\n",
       "      <th></th>\n",
       "      <th></th>\n",
       "    </tr>\n",
       "  </thead>\n",
       "  <tbody>\n",
       "    <tr>\n",
       "      <th>B</th>\n",
       "      <td>0.000000</td>\n",
       "      <td>0.000000</td>\n",
       "      <td>0.000000</td>\n",
       "      <td>0.000000</td>\n",
       "      <td>0.294118</td>\n",
       "      <td>0.000000</td>\n",
       "      <td>0.000000</td>\n",
       "      <td>0.117647</td>\n",
       "      <td>0.235294</td>\n",
       "      <td>0.000000</td>\n",
       "      <td>...</td>\n",
       "      <td>0.000000</td>\n",
       "      <td>0.000000</td>\n",
       "      <td>0.000000</td>\n",
       "      <td>0.000000</td>\n",
       "      <td>0.117647</td>\n",
       "      <td>0.000000</td>\n",
       "      <td>0.0</td>\n",
       "      <td>0.000000</td>\n",
       "      <td>0.000000</td>\n",
       "      <td>0.0</td>\n",
       "    </tr>\n",
       "    <tr>\n",
       "      <th>I</th>\n",
       "      <td>0.000000</td>\n",
       "      <td>0.000000</td>\n",
       "      <td>0.000000</td>\n",
       "      <td>0.000000</td>\n",
       "      <td>0.200000</td>\n",
       "      <td>0.000000</td>\n",
       "      <td>0.000000</td>\n",
       "      <td>0.000000</td>\n",
       "      <td>0.100000</td>\n",
       "      <td>0.000000</td>\n",
       "      <td>...</td>\n",
       "      <td>0.000000</td>\n",
       "      <td>0.000000</td>\n",
       "      <td>0.000000</td>\n",
       "      <td>0.000000</td>\n",
       "      <td>0.000000</td>\n",
       "      <td>0.000000</td>\n",
       "      <td>0.3</td>\n",
       "      <td>0.000000</td>\n",
       "      <td>0.000000</td>\n",
       "      <td>0.4</td>\n",
       "    </tr>\n",
       "    <tr>\n",
       "      <th>O</th>\n",
       "      <td>0.066667</td>\n",
       "      <td>0.155556</td>\n",
       "      <td>0.066667</td>\n",
       "      <td>0.066667</td>\n",
       "      <td>0.000000</td>\n",
       "      <td>0.088889</td>\n",
       "      <td>0.022222</td>\n",
       "      <td>0.000000</td>\n",
       "      <td>0.000000</td>\n",
       "      <td>0.044444</td>\n",
       "      <td>...</td>\n",
       "      <td>0.022222</td>\n",
       "      <td>0.088889</td>\n",
       "      <td>0.022222</td>\n",
       "      <td>0.022222</td>\n",
       "      <td>0.000000</td>\n",
       "      <td>0.044444</td>\n",
       "      <td>0.0</td>\n",
       "      <td>0.066667</td>\n",
       "      <td>0.022222</td>\n",
       "      <td>0.0</td>\n",
       "    </tr>\n",
       "  </tbody>\n",
       "</table>\n",
       "<p>3 rows × 25 columns</p>\n",
       "</div>"
      ],
      "text/plain": [
       "tokens         ,         .         a     along     alvin       and        be  \\\n",
       "entity                                                                         \n",
       "B       0.000000  0.000000  0.000000  0.000000  0.294118  0.000000  0.000000   \n",
       "I       0.000000  0.000000  0.000000  0.000000  0.200000  0.000000  0.000000   \n",
       "O       0.066667  0.155556  0.066667  0.066667  0.000000  0.088889  0.022222   \n",
       "\n",
       "tokens      cave    cheryl     child  ...        in      like      live  \\\n",
       "entity                                ...                                 \n",
       "B       0.117647  0.235294  0.000000  ...  0.000000  0.000000  0.000000   \n",
       "I       0.000000  0.100000  0.000000  ...  0.000000  0.000000  0.000000   \n",
       "O       0.000000  0.000000  0.044444  ...  0.022222  0.088889  0.022222   \n",
       "\n",
       "tokens      name     river     their  thomas      walk      when  yangtze  \n",
       "entity                                                                     \n",
       "B       0.000000  0.117647  0.000000     0.0  0.000000  0.000000      0.0  \n",
       "I       0.000000  0.000000  0.000000     0.3  0.000000  0.000000      0.4  \n",
       "O       0.022222  0.000000  0.044444     0.0  0.066667  0.022222      0.0  \n",
       "\n",
       "[3 rows x 25 columns]"
      ]
     },
     "execution_count": 7,
     "metadata": {},
     "output_type": "execute_result"
    }
   ],
   "source": [
    "all_list = []\n",
    "for i in range(1,8):\n",
    "    list_object = 'list'+'_'+str(i)\n",
    "    all_list += eval(list_object) \n",
    "    \n",
    "tokens, entity = list(zip(*all_list))\n",
    "tokens = [lemmatize_sentence(token.lower())[0] for token in tokens]\n",
    "\n",
    "df = pd.DataFrame(tokens,entity).reset_index().rename(columns={0:'tokens','index':'entity'})\n",
    "df['values']=1\n",
    "df = df.pivot_table(index='entity',columns='tokens',aggfunc='sum').fillna(0)\n",
    "df = df.div(df.sum(axis=1), axis=0)\n",
    "df.columns = df.columns.droplevel(0)\n",
    "\n",
    "df"
   ]
  },
  {
   "cell_type": "code",
   "execution_count": 8,
   "metadata": {},
   "outputs": [],
   "source": [
    "df2 = []\n",
    "\n",
    "for i in range(1,8):\n",
    "    list_object = eval('list'+'_'+str(i))\n",
    "    for index in range(len(list_object)-1):\n",
    "        first_token = list_object[index][1]\n",
    "        next_token = list_object[index+1][1]\n",
    "        df2.append({'first_token':first_token,'next_token':next_token})\n",
    "        \n",
    "df2 = pd.DataFrame(df2)\n",
    "    "
   ]
  },
  {
   "cell_type": "code",
   "execution_count": 9,
   "metadata": {},
   "outputs": [],
   "source": [
    "df2['values'] = 1\n",
    "df2 = df2.pivot_table(index='first_token',columns='next_token',aggfunc='sum').fillna(0)\n",
    "df2 = df2.div(df2.sum(axis=1), axis=0)\n",
    "\n",
    "df2.columns = df2.columns.droplevel(0)"
   ]
  },
  {
   "cell_type": "code",
   "execution_count": 10,
   "metadata": {},
   "outputs": [],
   "source": [
    "df2 = pd.concat([pd.DataFrame(columns=['B','I','O'],index=['<s>'],data=[[5/7,0,2/7]]),df2],axis=0)"
   ]
  },
  {
   "cell_type": "code",
   "execution_count": 11,
   "metadata": {},
   "outputs": [
    {
     "data": {
      "text/html": [
       "<div>\n",
       "<style scoped>\n",
       "    .dataframe tbody tr th:only-of-type {\n",
       "        vertical-align: middle;\n",
       "    }\n",
       "\n",
       "    .dataframe tbody tr th {\n",
       "        vertical-align: top;\n",
       "    }\n",
       "\n",
       "    .dataframe thead th {\n",
       "        text-align: right;\n",
       "    }\n",
       "</style>\n",
       "<table border=\"1\" class=\"dataframe\">\n",
       "  <thead>\n",
       "    <tr style=\"text-align: right;\">\n",
       "      <th></th>\n",
       "      <th>B</th>\n",
       "      <th>I</th>\n",
       "      <th>O</th>\n",
       "    </tr>\n",
       "  </thead>\n",
       "  <tbody>\n",
       "    <tr>\n",
       "      <th>&lt;s&gt;</th>\n",
       "      <td>0.714286</td>\n",
       "      <td>0.000000</td>\n",
       "      <td>0.285714</td>\n",
       "    </tr>\n",
       "    <tr>\n",
       "      <th>B</th>\n",
       "      <td>0.000000</td>\n",
       "      <td>0.588235</td>\n",
       "      <td>0.411765</td>\n",
       "    </tr>\n",
       "    <tr>\n",
       "      <th>I</th>\n",
       "      <td>0.000000</td>\n",
       "      <td>0.000000</td>\n",
       "      <td>1.000000</td>\n",
       "    </tr>\n",
       "    <tr>\n",
       "      <th>O</th>\n",
       "      <td>0.315789</td>\n",
       "      <td>0.000000</td>\n",
       "      <td>0.684211</td>\n",
       "    </tr>\n",
       "  </tbody>\n",
       "</table>\n",
       "</div>"
      ],
      "text/plain": [
       "            B         I         O\n",
       "<s>  0.714286  0.000000  0.285714\n",
       "B    0.000000  0.588235  0.411765\n",
       "I    0.000000  0.000000  1.000000\n",
       "O    0.315789  0.000000  0.684211"
      ]
     },
     "execution_count": 11,
     "metadata": {},
     "output_type": "execute_result"
    }
   ],
   "source": [
    "df2"
   ]
  },
  {
   "cell_type": "code",
   "execution_count": 12,
   "metadata": {},
   "outputs": [],
   "source": [
    "list_of_entity = []\n",
    "previous = '<s>'\n",
    "tokens = [lemmatize_sentence(token.lower())[0] for token in word_tokenize(test_1)]\n",
    "\n",
    "for token in tokens:\n",
    "    \n",
    "    matrix = df[token].multiply(df2.loc[previous])\n",
    "    previous = df.index[np.argmax(matrix)]\n",
    "    token_label_pair = (token,previous)\n",
    "    list_of_entity.append(token_label_pair)"
   ]
  },
  {
   "cell_type": "code",
   "execution_count": 13,
   "metadata": {},
   "outputs": [
    {
     "data": {
      "text/plain": [
       "[('alvin', 'B'),\n",
       " ('and', 'O'),\n",
       " ('cheryl', 'B'),\n",
       " ('have', 'O'),\n",
       " ('a', 'O'),\n",
       " ('child', 'O'),\n",
       " (',', 'O'),\n",
       " ('thomas', 'B'),\n",
       " ('cheryl', 'I'),\n",
       " ('.', 'O')]"
      ]
     },
     "execution_count": 13,
     "metadata": {},
     "output_type": "execute_result"
    }
   ],
   "source": [
    "list_of_entity"
   ]
  },
  {
   "cell_type": "code",
   "execution_count": 14,
   "metadata": {},
   "outputs": [
    {
     "data": {
      "text/plain": [
       "array([',', '.', 'a', 'alvin', 'and', 'cheryl', 'child', 'have', 'thomas'],\n",
       "      dtype='<U6')"
      ]
     },
     "execution_count": 14,
     "metadata": {},
     "output_type": "execute_result"
    }
   ],
   "source": [
    "np.unique(tokens)"
   ]
  },
  {
   "cell_type": "code",
   "execution_count": 15,
   "metadata": {},
   "outputs": [
    {
     "data": {
      "text/plain": [
       "9"
      ]
     },
     "execution_count": 15,
     "metadata": {},
     "output_type": "execute_result"
    }
   ],
   "source": [
    "len(np.unique(tokens))"
   ]
  }
 ],
 "metadata": {
  "kernelspec": {
   "display_name": "Python 3",
   "language": "python",
   "name": "python3"
  },
  "language_info": {
   "codemirror_mode": {
    "name": "ipython",
    "version": 3
   },
   "file_extension": ".py",
   "mimetype": "text/x-python",
   "name": "python",
   "nbconvert_exporter": "python",
   "pygments_lexer": "ipython3",
   "version": "3.8.3"
  }
 },
 "nbformat": 4,
 "nbformat_minor": 4
}

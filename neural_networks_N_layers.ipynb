{
 "cells": [
  {
   "cell_type": "code",
   "execution_count": 1,
   "metadata": {},
   "outputs": [],
   "source": [
    "import numpy as np\n",
    "import pandas as pd\n",
    "import seaborn as sns\n",
    "import matplotlib.pyplot as plt\n",
    "\n",
    "import tensorflow as tf\n",
    "from tensorflow.keras.layers import Dense \n",
    "from tensorflow.keras import Sequential \n",
    "from tensorflow.keras.optimizers import SGD\n",
    "\n",
    "from sklearn.metrics import confusion_matrix, classification_report\n",
    "from sklearn.model_selection import train_test_split\n",
    "\n",
    "from neural_network_N_layers import Model, Layer"
   ]
  },
  {
   "cell_type": "markdown",
   "metadata": {},
   "source": [
    "# Load MNIST data and preprocess them \n",
    "\n",
    "### --> Image data are normalized to speed up convergence and also to avoid Exploding Gradients"
   ]
  },
  {
   "cell_type": "code",
   "execution_count": 2,
   "metadata": {},
   "outputs": [],
   "source": [
    "(X_train, y_train), (X_test, y_test) = tf.keras.datasets.mnist.load_data()"
   ]
  },
  {
   "cell_type": "code",
   "execution_count": 3,
   "metadata": {},
   "outputs": [
    {
     "data": {
      "text/plain": [
       "array([[   0,  980],\n",
       "       [   1, 1135],\n",
       "       [   2, 1032],\n",
       "       [   3, 1010],\n",
       "       [   4,  982],\n",
       "       [   5,  892],\n",
       "       [   6,  958],\n",
       "       [   7, 1028],\n",
       "       [   8,  974],\n",
       "       [   9, 1009]], dtype=int64)"
      ]
     },
     "execution_count": 3,
     "metadata": {},
     "output_type": "execute_result"
    }
   ],
   "source": [
    "# Analysis of class proportion in test data\n",
    "\n",
    "labels, counts = np.unique(y_test,return_counts=True)\n",
    "\n",
    "np.asarray((labels, counts)).T"
   ]
  },
  {
   "cell_type": "code",
   "execution_count": 4,
   "metadata": {},
   "outputs": [],
   "source": [
    "X_train = X_train/255\n",
    "X_test = X_test/255\n",
    "\n",
    "X_train = X_train.reshape(X_train.shape[0],X_train.shape[1]*X_train.shape[2])\n",
    "X_test = X_test.reshape(X_test.shape[0],X_test.shape[1]*X_test.shape[2])\n",
    "\n",
    "y_train = tf.keras.utils.to_categorical(y_train)\n",
    "y_test = tf.keras.utils.to_categorical(y_test)"
   ]
  },
  {
   "cell_type": "markdown",
   "metadata": {},
   "source": [
    "# Comparison of Tensorflow model versus our model (Basic configuration)\n",
    "\n",
    "### Below: Results show similar performance between our model and Tensorflow API"
   ]
  },
  {
   "cell_type": "code",
   "execution_count": 5,
   "metadata": {},
   "outputs": [],
   "source": [
    "def nn_model():\n",
    "\n",
    "    tf.random.set_seed(42)\n",
    "\n",
    "    model2 = Sequential([\n",
    "        Dense(512,input_shape=(784,),activation='relu'),\n",
    "        Dense(128,activation='relu'),\n",
    "        Dense(64,activation='relu'),\n",
    "        Dense(10,activation='softmax')\n",
    "    ])\n",
    "\n",
    "    model2.compile(optimizer=SGD(learning_rate=0.05),\n",
    "                  loss=\"categorical_crossentropy\",\n",
    "                  metrics=[tf.keras.metrics.CategoricalAccuracy()])\n",
    "    \n",
    "    return model2"
   ]
  },
  {
   "cell_type": "code",
   "execution_count": 6,
   "metadata": {},
   "outputs": [],
   "source": [
    "model2 = nn_model()"
   ]
  },
  {
   "cell_type": "code",
   "execution_count": 7,
   "metadata": {},
   "outputs": [
    {
     "name": "stdout",
     "output_type": "stream",
     "text": [
      "Epoch 1/20\n",
      "118/118 [==============================] - 2s 13ms/step - loss: 1.1135 - categorical_accuracy: 0.7175\n",
      "Epoch 2/20\n",
      "118/118 [==============================] - 1s 12ms/step - loss: 0.3977 - categorical_accuracy: 0.8901 0s - loss: 0.4179 - categori\n",
      "Epoch 3/20\n",
      "118/118 [==============================] - 1s 12ms/step - loss: 0.3161 - categorical_accuracy: 0.9106\n",
      "Epoch 4/20\n",
      "118/118 [==============================] - 1s 11ms/step - loss: 0.2768 - categorical_accuracy: 0.9200\n",
      "Epoch 5/20\n",
      "118/118 [==============================] - 1s 11ms/step - loss: 0.2499 - categorical_accuracy: 0.9294\n",
      "Epoch 6/20\n",
      "118/118 [==============================] - 1s 12ms/step - loss: 0.2285 - categorical_accuracy: 0.9352\n",
      "Epoch 7/20\n",
      "118/118 [==============================] - 1s 11ms/step - loss: 0.2103 - categorical_accuracy: 0.9401\n",
      "Epoch 8/20\n",
      "118/118 [==============================] - 1s 11ms/step - loss: 0.1946 - categorical_accuracy: 0.9439\n",
      "Epoch 9/20\n",
      "118/118 [==============================] - 1s 11ms/step - loss: 0.1800 - categorical_accuracy: 0.9485\n",
      "Epoch 10/20\n",
      "118/118 [==============================] - 1s 12ms/step - loss: 0.1682 - categorical_accuracy: 0.9518\n",
      "Epoch 11/20\n",
      "118/118 [==============================] - 1s 12ms/step - loss: 0.1582 - categorical_accuracy: 0.9552\n",
      "Epoch 12/20\n",
      "118/118 [==============================] - 1s 13ms/step - loss: 0.1475 - categorical_accuracy: 0.9580\n",
      "Epoch 13/20\n",
      "118/118 [==============================] - 1s 12ms/step - loss: 0.1389 - categorical_accuracy: 0.9606\n",
      "Epoch 14/20\n",
      "118/118 [==============================] - 1s 12ms/step - loss: 0.1310 - categorical_accuracy: 0.9634\n",
      "Epoch 15/20\n",
      "118/118 [==============================] - 2s 15ms/step - loss: 0.1247 - categorical_accuracy: 0.9650\n",
      "Epoch 16/20\n",
      "118/118 [==============================] - 1s 12ms/step - loss: 0.1175 - categorical_accuracy: 0.9666\n",
      "Epoch 17/20\n",
      "118/118 [==============================] - 1s 12ms/step - loss: 0.1114 - categorical_accuracy: 0.9683\n",
      "Epoch 18/20\n",
      "118/118 [==============================] - 1s 12ms/step - loss: 0.1058 - categorical_accuracy: 0.9700\n",
      "Epoch 19/20\n",
      "118/118 [==============================] - 1s 12ms/step - loss: 0.1006 - categorical_accuracy: 0.9720\n",
      "Epoch 20/20\n",
      "118/118 [==============================] - 1s 12ms/step - loss: 0.0956 - categorical_accuracy: 0.9734\n"
     ]
    },
    {
     "data": {
      "text/plain": [
       "<keras.callbacks.History at 0x27897e67b80>"
      ]
     },
     "execution_count": 7,
     "metadata": {},
     "output_type": "execute_result"
    }
   ],
   "source": [
    "model2.fit(X_train,\n",
    "           y_train,\n",
    "           batch_size=512,\n",
    "           epochs=20)"
   ]
  },
  {
   "cell_type": "code",
   "execution_count": 8,
   "metadata": {},
   "outputs": [],
   "source": [
    "model = Model([Layer(units=512,input_units=784, activation='relu'),\n",
    "               Layer(units=128, activation='relu'),\n",
    "               Layer(units=64, activation='relu'),\n",
    "               Layer(units=10, activation='softmax')], \n",
    "               random_state=21)"
   ]
  },
  {
   "cell_type": "code",
   "execution_count": 9,
   "metadata": {},
   "outputs": [
    {
     "name": "stdout",
     "output_type": "stream",
     "text": [
      "Epoch 1 - Train_Loss:0.4683886309651992\n",
      "Epoch 2 - Train_Loss:0.31217961195062416\n",
      "Epoch 3 - Train_Loss:0.26148313598202866\n",
      "Epoch 4 - Train_Loss:0.233974659029999\n",
      "Epoch 5 - Train_Loss:0.2137232903312077\n",
      "Epoch 6 - Train_Loss:0.19724466442802732\n",
      "Epoch 7 - Train_Loss:0.1833528268356622\n",
      "Epoch 8 - Train_Loss:0.1717879057939811\n",
      "Epoch 9 - Train_Loss:0.16231448543756266\n",
      "Epoch 10 - Train_Loss:0.1545120856793933\n",
      "Epoch 11 - Train_Loss:0.1476000920160099\n",
      "Epoch 12 - Train_Loss:0.1410046931729924\n",
      "Epoch 13 - Train_Loss:0.13461325935734064\n",
      "Epoch 14 - Train_Loss:0.12858783895821316\n",
      "Epoch 15 - Train_Loss:0.12246521868484107\n",
      "Epoch 16 - Train_Loss:0.11756355950868747\n",
      "Epoch 17 - Train_Loss:0.11191434565178321\n",
      "Epoch 18 - Train_Loss:0.10655983041728932\n",
      "Epoch 19 - Train_Loss:0.10161816889915047\n",
      "Epoch 20 - Train_Loss:0.09668518350939326\n"
     ]
    }
   ],
   "source": [
    "model.fit(X_train,y_train,batch_size=512,epochs=20,learning_rate=0.05)"
   ]
  },
  {
   "cell_type": "code",
   "execution_count": 10,
   "metadata": {},
   "outputs": [],
   "source": [
    "pred = np.where(model.predict(X_test)==1)[1]\n",
    "pred2 = np.argmax(model2.predict(X_test),axis=1)\n",
    "test = np.where(y_test==1)[1]"
   ]
  },
  {
   "cell_type": "code",
   "execution_count": 11,
   "metadata": {},
   "outputs": [
    {
     "name": "stdout",
     "output_type": "stream",
     "text": [
      "              precision    recall  f1-score   support\n",
      "\n",
      "           0     0.9826    0.9776    0.9801       980\n",
      "           1     0.9833    0.9859    0.9846      1135\n",
      "           2     0.9867    0.9351    0.9602      1032\n",
      "           3     0.9841    0.9208    0.9514      1010\n",
      "           4     0.9637    0.9725    0.9681       982\n",
      "           5     0.9154    0.9821    0.9475       892\n",
      "           6     0.9518    0.9687    0.9602       958\n",
      "           7     0.9392    0.9767    0.9576      1028\n",
      "           8     0.9424    0.9569    0.9496       974\n",
      "           9     0.9695    0.9445    0.9568      1009\n",
      "\n",
      "    accuracy                         0.9620     10000\n",
      "   macro avg     0.9619    0.9621    0.9616     10000\n",
      "weighted avg     0.9627    0.9620    0.9620     10000\n",
      "\n"
     ]
    }
   ],
   "source": [
    "print(classification_report(test,pred2,digits=4))"
   ]
  },
  {
   "cell_type": "code",
   "execution_count": 12,
   "metadata": {},
   "outputs": [
    {
     "name": "stdout",
     "output_type": "stream",
     "text": [
      "              precision    recall  f1-score   support\n",
      "\n",
      "           0     0.9747    0.9816    0.9781       980\n",
      "           1     0.9833    0.9841    0.9837      1135\n",
      "           2     0.9671    0.9690    0.9681      1032\n",
      "           3     0.9702    0.9683    0.9693      1010\n",
      "           4     0.9687    0.9756    0.9721       982\n",
      "           5     0.9464    0.9709    0.9585       892\n",
      "           6     0.9799    0.9666    0.9732       958\n",
      "           7     0.9639    0.9601    0.9620      1028\n",
      "           8     0.9607    0.9528    0.9567       974\n",
      "           9     0.9618    0.9495    0.9556      1009\n",
      "\n",
      "    accuracy                         0.9680     10000\n",
      "   macro avg     0.9677    0.9678    0.9677     10000\n",
      "weighted avg     0.9680    0.9680    0.9680     10000\n",
      "\n"
     ]
    }
   ],
   "source": [
    "print(classification_report(test,pred,digits=4))"
   ]
  },
  {
   "cell_type": "markdown",
   "metadata": {},
   "source": [
    "# Testing our model again with:\n",
    "### 1) Early Stopping on Development Set\n",
    "### 2) L2 Regularization\n",
    "\n",
    "### Below: Macro average F1 and confusion matrix show superior results compared to previous run!"
   ]
  },
  {
   "cell_type": "code",
   "execution_count": 13,
   "metadata": {},
   "outputs": [],
   "source": [
    "X_train, X_val, y_train, y_val = train_test_split(X_train,y_train,random_state=42,stratify=y_train)"
   ]
  },
  {
   "cell_type": "code",
   "execution_count": 14,
   "metadata": {},
   "outputs": [],
   "source": [
    "model = Model([Layer(units=512,input_units=784, activation='relu',l2_regularization=0.01),\n",
    "               Layer(units=128, activation='relu',l2_regularization=0.005),\n",
    "               Layer(units=64, activation='relu'),\n",
    "               Layer(units=10, activation='softmax')], \n",
    "               random_state=21)"
   ]
  },
  {
   "cell_type": "code",
   "execution_count": 15,
   "metadata": {},
   "outputs": [
    {
     "name": "stdout",
     "output_type": "stream",
     "text": [
      "Epoch 1 - Train_Loss:0.4478347954309386  Val_Loss:0.5088646326323709\n",
      "Epoch 2 - Train_Loss:0.2868174108647129  Val_Loss:0.3458644697761199\n",
      "Epoch 3 - Train_Loss:0.23943198069406862  Val_Loss:0.29475559592421935\n",
      "Epoch 4 - Train_Loss:0.21197391221527997  Val_Loss:0.26401229075167354\n",
      "Epoch 5 - Train_Loss:0.19176638334439566  Val_Loss:0.24194741182349794\n",
      "Epoch 6 - Train_Loss:0.17607525143522376  Val_Loss:0.22474368739152614\n",
      "Epoch 7 - Train_Loss:0.16307335469999765  Val_Loss:0.2106636735647611\n",
      "Epoch 8 - Train_Loss:0.15186585898780267  Val_Loss:0.19894035628826376\n",
      "Epoch 9 - Train_Loss:0.14199683348666853  Val_Loss:0.18907221516052014\n",
      "Epoch 10 - Train_Loss:0.1335541993761417  Val_Loss:0.18034670593137359\n",
      "Epoch 11 - Train_Loss:0.12609504944357877  Val_Loss:0.17268903217344309\n",
      "Epoch 12 - Train_Loss:0.1194655594921464  Val_Loss:0.16583376535712266\n",
      "Epoch 13 - Train_Loss:0.11337302170728758  Val_Loss:0.15968971816979907\n",
      "Epoch 14 - Train_Loss:0.10761410898821522  Val_Loss:0.15401738321823757\n",
      "Epoch 15 - Train_Loss:0.10210807116494428  Val_Loss:0.14887038319419532\n",
      "Epoch 16 - Train_Loss:0.09725899671131338  Val_Loss:0.1442637526761523\n",
      "Epoch 17 - Train_Loss:0.09277174498908143  Val_Loss:0.13995078633639746\n",
      "Epoch 18 - Train_Loss:0.08860848089482957  Val_Loss:0.13603613728370187\n",
      "Epoch 19 - Train_Loss:0.08461140026434583  Val_Loss:0.13241116955246515\n",
      "Epoch 20 - Train_Loss:0.08063357668499038  Val_Loss:0.12905214544522012\n",
      "Epoch 21 - Train_Loss:0.07680688984096705  Val_Loss:0.12594299766816786\n",
      "Epoch 22 - Train_Loss:0.07338521268369051  Val_Loss:0.1231117501706093\n",
      "Epoch 23 - Train_Loss:0.06981041525351714  Val_Loss:0.12044086632732927\n",
      "Epoch 24 - Train_Loss:0.0663340729464669  Val_Loss:0.11799370213918825\n",
      "Epoch 25 - Train_Loss:0.06296341735742773  Val_Loss:0.11570684687268695\n",
      "Epoch 26 - Train_Loss:0.05978423383915177  Val_Loss:0.11360536576063872\n",
      "Epoch 27 - Train_Loss:0.056786001866337865  Val_Loss:0.11160166975358893\n",
      "Epoch 28 - Train_Loss:0.053992480810077986  Val_Loss:0.10978854900704677\n",
      "Epoch 29 - Train_Loss:0.05139471012000919  Val_Loss:0.10806740278966044\n",
      "Epoch 30 - Train_Loss:0.04897550561346747  Val_Loss:0.10648689782120599\n",
      "Epoch 31 - Train_Loss:0.04664784104807374  Val_Loss:0.10505656990714275\n",
      "Epoch 32 - Train_Loss:0.04442860781764714  Val_Loss:0.1035940437613727\n",
      "Epoch 33 - Train_Loss:0.042328885897553306  Val_Loss:0.10241281745918841\n",
      "Epoch 34 - Train_Loss:0.04024679720562599  Val_Loss:0.10127091022381338\n",
      "Epoch 35 - Train_Loss:0.03831787971608055  Val_Loss:0.10022164104889823\n",
      "Epoch 36 - Train_Loss:0.036595006686893757  Val_Loss:0.0992382913434669\n",
      "Epoch 37 - Train_Loss:0.03498528724841664  Val_Loss:0.09831176015325377\n",
      "Epoch 38 - Train_Loss:0.033370654678919  Val_Loss:0.09735771799654583\n",
      "Epoch 39 - Train_Loss:0.03200872688538253  Val_Loss:0.09657875852213159\n",
      "Epoch 40 - Train_Loss:0.03053113955301746  Val_Loss:0.09578974806974463\n",
      "Epoch 41 - Train_Loss:0.029117390718155268  Val_Loss:0.09505503132192315\n",
      "Epoch 42 - Train_Loss:0.027761417375400645  Val_Loss:0.09435636548938159\n",
      "Epoch 43 - Train_Loss:0.026527998936422704  Val_Loss:0.09367822376097716\n",
      "Epoch 44 - Train_Loss:0.025279107179359824  Val_Loss:0.09306119675142174\n",
      "Epoch 45 - Train_Loss:0.024291233904844337  Val_Loss:0.09250509093205232\n",
      "Epoch 46 - Train_Loss:0.023157643510765796  Val_Loss:0.09198304865053145\n",
      "Epoch 47 - Train_Loss:0.022201567259913756  Val_Loss:0.09146727625345547\n",
      "Epoch 48 - Train_Loss:0.021227307551952464  Val_Loss:0.0910093324082126\n",
      "Epoch 49 - Train_Loss:0.020388910167872264  Val_Loss:0.09052419114908612\n",
      "Epoch 50 - Train_Loss:0.019566538309870304  Val_Loss:0.09013355586787412\n",
      "Epoch 51 - Train_Loss:0.018824721849276166  Val_Loss:0.08975592852515502\n",
      "Epoch 52 - Train_Loss:0.018130907059104813  Val_Loss:0.08942720533731482\n",
      "Epoch 53 - Train_Loss:0.017496186281776765  Val_Loss:0.08912984649963457\n",
      "Epoch 54 - Train_Loss:0.0169360962871873  Val_Loss:0.088870196935394\n",
      "Epoch 55 - Train_Loss:0.016351876252012332  Val_Loss:0.08861562289795735\n",
      "Epoch 56 - Train_Loss:0.015836116967988745  Val_Loss:0.08841521934790708\n",
      "Epoch 57 - Train_Loss:0.01539436695804296  Val_Loss:0.08828003578065201\n",
      "Epoch 58 - Train_Loss:0.014886755601322313  Val_Loss:0.08803980950415818\n",
      "Epoch 59 - Train_Loss:0.01450020759376332  Val_Loss:0.08796587263732222\n",
      "Epoch 60 - Train_Loss:0.014059488457302831  Val_Loss:0.0878089244844923\n",
      "Epoch 61 - Train_Loss:0.013662749270797117  Val_Loss:0.08771693928386794\n",
      "Epoch 62 - Train_Loss:0.013256041099877979  Val_Loss:0.08764400455748467\n",
      "Epoch 63 - Train_Loss:0.012860662000022264  Val_Loss:0.08755853334553954\n",
      "Epoch 64 - Train_Loss:0.012536479960780937  Val_Loss:0.08753775663244817\n",
      "Epoch 65 - Train_Loss:0.012097282415818453  Val_Loss:0.08747891337320174\n",
      "Epoch 66 - Train_Loss:0.011779185148981455  Val_Loss:0.0874448125476771\n",
      "Epoch 67 - Train_Loss:0.011344221578516991  Val_Loss:0.08741049887832114\n",
      "Epoch 68 - Train_Loss:0.011006057248177204  Val_Loss:0.08738906701441804\n",
      "Epoch 69 - Train_Loss:0.01064981312804827  Val_Loss:0.08736591133407598\n",
      "Epoch 70 - Train_Loss:0.010308236751122348  Val_Loss:0.08740140601683484\n",
      "Epoch 71 - Train_Loss:0.009949741845019355  Val_Loss:0.08730264058357869\n",
      "Epoch 72 - Train_Loss:0.009606486605628387  Val_Loss:0.0873515778032992\n",
      "Epoch 73 - Train_Loss:0.009279319302216246  Val_Loss:0.08729391185681946\n",
      "Epoch 74 - Train_Loss:0.008992207898477085  Val_Loss:0.0873193539695711\n",
      "Epoch 75 - Train_Loss:0.00871602633322148  Val_Loss:0.08731582295934895\n",
      "Epoch 76 - Train_Loss:0.008472710632181076  Val_Loss:0.08737863433004533\n",
      "Epoch 77 - Train_Loss:0.008224014675764453  Val_Loss:0.08740000326276133\n",
      "Epoch 78 - Train_Loss:0.00796926183907947  Val_Loss:0.08740467565646963\n",
      "Early Stopping! Best Epoch 73 - Val_Loss:0.08729391185681946\n"
     ]
    }
   ],
   "source": [
    "model.fit(X_train,\n",
    "          y_train,\n",
    "          validation_data=(X_val,y_val),\n",
    "          batch_size=512,\n",
    "          epochs=100,\n",
    "          learning_rate=0.05,\n",
    "          patience=5)"
   ]
  },
  {
   "cell_type": "code",
   "execution_count": 16,
   "metadata": {},
   "outputs": [
    {
     "name": "stdout",
     "output_type": "stream",
     "text": [
      "              precision    recall  f1-score   support\n",
      "\n",
      "           0     0.9806    0.9796    0.9801       980\n",
      "           1     0.9903    0.9903    0.9903      1135\n",
      "           2     0.9602    0.9806    0.9703      1032\n",
      "           3     0.9536    0.9772    0.9653      1010\n",
      "           4     0.9827    0.9807    0.9817       982\n",
      "           5     0.9715    0.9563    0.9638       892\n",
      "           6     0.9863    0.9739    0.9800       958\n",
      "           7     0.9784    0.9698    0.9741      1028\n",
      "           8     0.9662    0.9682    0.9672       974\n",
      "           9     0.9729    0.9623    0.9676      1009\n",
      "\n",
      "    accuracy                         0.9743     10000\n",
      "   macro avg     0.9743    0.9739    0.9740     10000\n",
      "weighted avg     0.9744    0.9743    0.9743     10000\n",
      "\n"
     ]
    }
   ],
   "source": [
    "pred = np.where(model.predict(X_test)==1)[1]\n",
    "test = np.where(y_test==1)[1]\n",
    "print(classification_report(test,pred,digits=4))"
   ]
  },
  {
   "cell_type": "code",
   "execution_count": 17,
   "metadata": {},
   "outputs": [
    {
     "data": {
      "image/png": "[encoded data removed]",
      "text/plain": [
       "<Figure size 1200x800 with 2 Axes>"
      ]
     },
     "metadata": {},
     "output_type": "display_data"
    }
   ],
   "source": [
    "def make_confusion_matrix(y_test,y_predict):  \n",
    "    \n",
    "    confusion = confusion_matrix(y_test,y_predict)\n",
    "    \n",
    "    sns.set(style='white',font_scale=0.5)\n",
    "    plt.figure(dpi=200)\n",
    "    ax = sns.heatmap(confusion, cmap='Blues', annot=True, square=True, fmt='d',linewidth=2);   \n",
    "    plt.xlabel('Prediction',weight='bold',fontsize=10)\n",
    "    plt.ylabel('Actual',weight='bold',fontsize=10)\n",
    "    plt.title('Confusion Matrix',weight='bold',fontsize=12)\n",
    "    \n",
    "make_confusion_matrix(test,pred)"
   ]
  },
  {
   "cell_type": "code",
   "execution_count": null,
   "metadata": {},
   "outputs": [],
   "source": []
  }
 ],
 "metadata": {
  "kernelspec": {
   "display_name": "Python 3",
   "language": "python",
   "name": "python3"
  },
  "language_info": {
   "codemirror_mode": {
    "name": "ipython",
    "version": 3
   },
   "file_extension": ".py",
   "mimetype": "text/x-python",
   "name": "python",
   "nbconvert_exporter": "python",
   "pygments_lexer": "ipython3",
   "version": "3.8.3"
  }
 },
 "nbformat": 4,
 "nbformat_minor": 4
}

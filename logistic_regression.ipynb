{
 "cells": [
  {
   "cell_type": "markdown",
   "metadata": {},
   "source": [
    "## Import libraries and acquire breast cancer data"
   ]
  },
  {
   "cell_type": "code",
   "execution_count": 1,
   "metadata": {},
   "outputs": [],
   "source": [
    "from sklearn.datasets import load_breast_cancer\n",
    "from sklearn.linear_model import LogisticRegression\n",
    "from sklearn.model_selection import train_test_split\n",
    "from sklearn.metrics import classification_report\n",
    "\n",
    "from logistic_regression import Logistic_Regression"
   ]
  },
  {
   "cell_type": "code",
   "execution_count": 2,
   "metadata": {},
   "outputs": [],
   "source": [
    "breat_cancer_data = load_breast_cancer()"
   ]
  },
  {
   "cell_type": "markdown",
   "metadata": {},
   "source": [
    "## Create Train-Test split of breast cancer data"
   ]
  },
  {
   "cell_type": "code",
   "execution_count": 3,
   "metadata": {},
   "outputs": [],
   "source": [
    "X = breat_cancer_data['data']\n",
    "y = breat_cancer_data['target']\n",
    "\n",
    "X_train, X_test, y_train, y_test = train_test_split(X,\n",
    "                                                    y,\n",
    "                                                    test_size=0.2,\n",
    "                                                    stratify=y,\n",
    "                                                    random_state=42\n",
    "                                                   )"
   ]
  },
  {
   "cell_type": "markdown",
   "metadata": {},
   "source": [
    "## Train and evaluate (on test set) with Scikit-Learn's Logistic Regression"
   ]
  },
  {
   "cell_type": "code",
   "execution_count": 4,
   "metadata": {},
   "outputs": [],
   "source": [
    "LR = LogisticRegression(max_iter=10000,tol=0.0001,solver='sag')"
   ]
  },
  {
   "cell_type": "code",
   "execution_count": 5,
   "metadata": {},
   "outputs": [
    {
     "data": {
      "text/plain": [
       "LogisticRegression(max_iter=10000, solver='sag')"
      ]
     },
     "execution_count": 5,
     "metadata": {},
     "output_type": "execute_result"
    }
   ],
   "source": [
    "LR.fit(X_train,y_train)"
   ]
  },
  {
   "cell_type": "code",
   "execution_count": 6,
   "metadata": {},
   "outputs": [],
   "source": [
    "y_predict = LR.predict(X_test)"
   ]
  },
  {
   "cell_type": "code",
   "execution_count": 7,
   "metadata": {},
   "outputs": [
    {
     "name": "stdout",
     "output_type": "stream",
     "text": [
      "              precision    recall  f1-score   support\n",
      "\n",
      "    positive      0.949     0.881     0.914        42\n",
      "    negative      0.933     0.972     0.952        72\n",
      "\n",
      "    accuracy                          0.939       114\n",
      "   macro avg      0.941     0.927     0.933       114\n",
      "weighted avg      0.939     0.939     0.938       114\n",
      "\n"
     ]
    }
   ],
   "source": [
    "print(classification_report(y_test,\n",
    "                            y_predict,\n",
    "                            target_names=['positive','negative'],\n",
    "                            digits=3\n",
    "                           )\n",
    "     )"
   ]
  },
  {
   "cell_type": "markdown",
   "metadata": {},
   "source": [
    "## Train and evaluate (on test set) with my Logistic Regression"
   ]
  },
  {
   "cell_type": "code",
   "execution_count": 8,
   "metadata": {},
   "outputs": [],
   "source": [
    "my_LR = Logistic_Regression()"
   ]
  },
  {
   "cell_type": "code",
   "execution_count": 9,
   "metadata": {},
   "outputs": [
    {
     "name": "stderr",
     "output_type": "stream",
     "text": [
      "INFO:logistic_regression:Cost after iteration 0: 0.6931471805599453\n",
      "INFO:logistic_regression:Cost after iteration 100: 0.5051053583653871\n",
      "INFO:logistic_regression:Cost after iteration 200: 0.3723934299635252\n",
      "INFO:logistic_regression:Cost after iteration 300: 0.3396924264115935\n",
      "INFO:logistic_regression:Cost after iteration 400: 0.3168032732796787\n",
      "INFO:logistic_regression:Cost after iteration 500: 0.30011891302501104\n",
      "INFO:logistic_regression:Cost after iteration 600: 0.28748891113035385\n",
      "INFO:logistic_regression:Cost after iteration 700: 0.277589780326977\n",
      "INFO:logistic_regression:Cost after iteration 800: 0.2696051711927243\n",
      "INFO:logistic_regression:Cost after iteration 900: 0.263015405430684\n",
      "INFO:logistic_regression:Cost after iteration 1000: 0.2574756652170714\n",
      "INFO:logistic_regression:Cost after iteration 1100: 0.2527481277494966\n",
      "INFO:logistic_regression:Cost after iteration 1200: 0.24866320468933514\n",
      "INFO:logistic_regression:Cost after iteration 1300: 0.2450964771439494\n",
      "INFO:logistic_regression:Cost after iteration 1400: 0.24195440683555203\n",
      "INFO:logistic_regression:Cost after iteration 1500: 0.23916516481399103\n",
      "INFO:logistic_regression:Cost after iteration 1600: 0.23667256191451647\n",
      "INFO:logistic_regression:Cost after iteration 1700: 0.23443192341064553\n",
      "INFO:logistic_regression:Cost after iteration 1800: 0.23240721812483361\n",
      "INFO:logistic_regression:Cost after iteration 1900: 0.23056901767996846\n",
      "INFO:logistic_regression:Cost after iteration 2000: 0.22889301757754887\n",
      "INFO:logistic_regression:Cost after iteration 2100: 0.2273589463144786\n",
      "INFO:logistic_regression:Cost after iteration 2200: 0.22594974754895336\n",
      "INFO:logistic_regression:Cost after iteration 2300: 0.22465095774739338\n",
      "INFO:logistic_regression:Cost after iteration 2400: 0.2234502260494151\n",
      "INFO:logistic_regression:Cost after iteration 2500: 0.22233693916649833\n",
      "INFO:logistic_regression:Final cost at convergence after iteration 2598: 0.2213219114813845\n"
     ]
    }
   ],
   "source": [
    "my_LR.fit(X_train,y_train)"
   ]
  },
  {
   "cell_type": "code",
   "execution_count": 10,
   "metadata": {},
   "outputs": [],
   "source": [
    "y_predict = my_LR.predict(X_test)"
   ]
  },
  {
   "cell_type": "code",
   "execution_count": 11,
   "metadata": {},
   "outputs": [
    {
     "name": "stdout",
     "output_type": "stream",
     "text": [
      "              precision    recall  f1-score   support\n",
      "\n",
      "    positive      0.974     0.881     0.925        42\n",
      "    negative      0.934     0.986     0.959        72\n",
      "\n",
      "    accuracy                          0.947       114\n",
      "   macro avg      0.954     0.934     0.942       114\n",
      "weighted avg      0.949     0.947     0.947       114\n",
      "\n"
     ]
    }
   ],
   "source": [
    "print(classification_report(y_test,\n",
    "                            y_predict,\n",
    "                            target_names=['positive','negative'],\n",
    "                            digits=3\n",
    "                           )\n",
    "     )"
   ]
  }
 ],
 "metadata": {
  "kernelspec": {
   "display_name": "Python 3",
   "language": "python",
   "name": "python3"
  },
  "language_info": {
   "codemirror_mode": {
    "name": "ipython",
    "version": 3
   },
   "file_extension": ".py",
   "mimetype": "text/x-python",
   "name": "python",
   "nbconvert_exporter": "python",
   "pygments_lexer": "ipython3",
   "version": "3.8.3"
  }
 },
 "nbformat": 4,
 "nbformat_minor": 4
}
